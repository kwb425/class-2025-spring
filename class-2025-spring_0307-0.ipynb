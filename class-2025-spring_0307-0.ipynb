{
  "cells": [
    {
      "cell_type": "markdown",
      "metadata": {},
      "source": [
        "<a href=\"https://colab.research.google.com/github/kwb425/class-2025-spring/blob/main/class-2025-spring_0307-0.ipynb\" target=\"_parent\"><img src=\"https://colab.research.google.com/assets/colab-badge.svg\" alt=\"Open In Colab\"/></a>"
      ]
    },
    {
      "cell_type": "markdown",
      "metadata": {
        "id": "df2zUzf1SHd3"
      },
      "source": [
        "### Google Colab Introduction\n",
        "\n",
        "## What is Google Colab?\n",
        "Google Colab (or Colaboratory) is a free cloud-based Jupyter Notebook environment provided by Google. It allows users to write and execute Python code in their web browser without any setup. It is widely used for machine learning, data analysis, and Python-based research.\n",
        "\n",
        "## Why use Google Colab?\n",
        "1. **No Installation Required**: Since it runs in the cloud, there is no need to install Python or any additional packages locally.\n",
        "2. **Free Access to GPUs and TPUs**: Google provides free access to high-performance computing resources, such as GPUs (Graphics Processing Units) and TPUs (Tensor Processing Units), making it suitable for deep learning and AI research.\n",
        "3. **Seamless Collaboration**: Just like Google Docs, Colab allows multiple users to work on the same notebook, making it ideal for team projects and education.\n",
        "4. **Integration with Google Drive**: Users can easily save, load, and manage files in Google Drive, making data storage and retrieval simple.\n",
        "5. **Supports Popular Libraries**: Colab comes pre-installed with many popular libraries, including TensorFlow, PyTorch, NumPy, Pandas, Matplotlib, and more.\n",
        "6. **Markdown and Code Execution**: Users can write formatted text, explanations, and execute code in the same document, making it an excellent tool for documentation and presentations.\n",
        "7. **Interactive Visualizations**: Supports visualization libraries like Matplotlib, Seaborn, and Plotly for interactive data analysis.\n",
        "8. **Easy Package Installation**: You can install Python libraries using `!pip install package-name` directly in the notebook.\n",
        "9. **Automated Version Control**: Integration with GitHub makes version control and collaboration easy.\n",
        "\n",
        "## Example: Running a Simple Python Code\n",
        "```python\n",
        "# Print a message to test Colab execution\n",
        "print(\"Hello, Google Colab! Welcome to cloud-based computing!\")\n",
        "```\n",
        "\n",
        "## Example: Using a GPU\n",
        "You can check if a GPU is available using the following code:\n",
        "```python\n",
        "import torch\n",
        "print(\"GPU available:\" , torch.cuda.is_available())\n",
        "```\n",
        "\n",
        "To enable a GPU, go to `Runtime > Change runtime type > Select GPU`.\n",
        "\n",
        "## Example: Mounting Google Drive\n",
        "To access files from Google Drive, use the following command:\n",
        "```python\n",
        "from google.colab import drive\n",
        "drive.mount('/content/drive')\n",
        "```\n",
        "This will prompt for authorization and mount your Drive at `/content/drive/`.\n",
        "\n",
        "## Summary\n",
        "Google Colab is a powerful, easy-to-use tool for Python programming, machine learning, and data analysis. Its cloud-based environment makes it accessible from anywhere, eliminates the need for local installation, and provides free computational resources. It is an essential tool for researchers, students, and professionals working with Python and AI.\n"
      ]
    }
  ],
  "metadata": {
    "colab": {
      "authorship_tag": "ABX9TyNO+571g2fpbKDlkVAhfOMT",
      "include_colab_link": true,
      "provenance": []
    },
    "kernelspec": {
      "display_name": "Python 3",
      "name": "python3"
    },
    "language_info": {
      "name": "python"
    }
  },
  "nbformat": 4,
  "nbformat_minor": 0
}
