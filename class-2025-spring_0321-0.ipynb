{
 "cells": [
  {
   "cell_type": "markdown",
   "metadata": {},
   "source": [
    "<a href=\"https://colab.research.google.com/github/kwb425/class-2025-spring/blob/main/class-2025-spring_0321-0.ipynb\" target=\"_parent\"><img src=\"https://colab.research.google.com/assets/colab-badge.svg\" alt=\"Open In Colab\"/></a>"
   ]
  },
  {
   "cell_type": "code",
   "execution_count": null,
   "metadata": {
    "colab": {
     "base_uri": "https://localhost:8080/"
    },
    "executionInfo": {
     "elapsed": 5701,
     "status": "ok",
     "timestamp": 1711074905184,
     "user": {
      "displayName": "",
      "userId": ""
     },
     "user_tz": -540
    },
    "id": "FVqnz0tcAVFM",
    "outputId": "f98ce3e6-ca17-4b18-dd07-fdffc0eb6447"
   },
   "outputs": [],
   "source": [
    "%pip install gradio\n",
    "%pip install transformers"
   ]
  },
  {
   "cell_type": "code",
   "execution_count": null,
   "metadata": {
    "colab": {
     "base_uri": "https://localhost:8080/"
    },
    "executionInfo": {
     "elapsed": 5803,
     "status": "ok",
     "timestamp": 1711075335407,
     "user": {
      "displayName": "",
      "userId": ""
     },
     "user_tz": -540
    },
    "id": "8xUALw60_lie",
    "outputId": "8b42a3ba-fcd0-4598-f5c7-edfe0b81f97e"
   },
   "outputs": [],
   "source": [
    "import gradio as gr\n",
    "from transformers import pipeline\n",
    "from PIL import Image\n",
    "import numpy as np\n",
    "import requests\n",
    "from io import BytesIO\n",
    "import os\n",
    "\n",
    "os.environ['HF_TOKEN'] = 'KEY'\n",
    "\n",
    "# Load AI model for image classification from Hugging Face\n",
    "classifier = pipeline(\"image-classification\", model=\"Falconsai/nsfw_image_detection\")\n",
    "\n",
    "# Define a prediction function for both image upload and URL input\n",
    "def recognize_image(image=None, url=None):\n",
    "    if url:\n",
    "        # If a URL is provided, fetch the image from the URL\n",
    "        response = requests.get(url)\n",
    "        image = Image.open(BytesIO(response.content))\n",
    "    elif image is not None:\n",
    "        # Convert the uploaded image to a 3-channel (RGB) PIL Image\n",
    "        image = Image.fromarray(image.astype('uint8')).convert('RGB')\n",
    "    \n",
    "    # Use the AI model to predict the label directly\n",
    "    predictions = classifier(image)\n",
    "    return predictions\n",
    "\n",
    "# Create Gradio interface with drag-and-drop and URL input\n",
    "with gr.Blocks() as demo:\n",
    "    gr.Markdown(\"# AI Recognition with Image Upload or URL\")\n",
    "    \n",
    "    with gr.Row():\n",
    "        image_input = gr.Image(type=\"numpy\", label=\"Drag and Drop Image or Upload\")\n",
    "        url_input = gr.Textbox(label=\"Or enter an Image URL\")\n",
    "    \n",
    "    submit_button = gr.Button(\"Submit\")\n",
    "    output = gr.Textbox(label=\"Prediction\")\n",
    "\n",
    "    # Define how the interface works when the button is clicked\n",
    "    submit_button.click(recognize_image, inputs=[image_input, url_input], outputs=output)\n",
    "\n",
    "# Launch the demo\n",
    "demo.launch()\n"
   ]
  }
 ],
 "metadata": {
  "colab": {
   "provenance": [
    {
     "file_id": "https://github.com/hsnam95/class2024Spring/blob/main/selenium_demo.ipynb",
     "timestamp": 1711075352191
    }
   ]
  },
  "kernelspec": {
   "display_name": "Python 3",
   "name": "python3"
  },
  "language_info": {
   "codemirror_mode": {
    "name": "ipython",
    "version": 3
   },
   "file_extension": ".py",
   "mimetype": "text/x-python",
   "name": "python",
   "nbconvert_exporter": "python",
   "pygments_lexer": "ipython3",
   "version": "3.12.2"
  }
 },
 "nbformat": 4,
 "nbformat_minor": 0
}
