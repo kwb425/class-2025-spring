{
  "cells": [
    {
      "cell_type": "markdown",
      "id": "4febdf28",
      "metadata": {
        "id": "4febdf28"
      },
      "source": [
        "<a href=\"https://colab.research.google.com/github/kwb425/class-2025-spring/blob/main/class-2025-spring_0606-0.ipynb\" target=\"_parent\"><img src=\"https://colab.research.google.com/assets/colab-badge.svg\" alt=\"Open In Colab\"/></a>"
      ]
    },
    {
      "cell_type": "markdown",
      "source": [
        "### MYSQL install on os"
      ],
      "metadata": {
        "id": "XM43sJxUdHes"
      },
      "id": "XM43sJxUdHes"
    },
    {
      "cell_type": "code",
      "execution_count": null,
      "id": "42b5ebb5",
      "metadata": {
        "id": "42b5ebb5"
      },
      "outputs": [],
      "source": [
        "# Install MySQL Server\n",
        "!apt-get update\n",
        "!apt-get install mysql-server"
      ]
    },
    {
      "cell_type": "markdown",
      "source": [
        "### MYSQL run on os"
      ],
      "metadata": {
        "id": "92mN23JnduUU"
      },
      "id": "92mN23JnduUU"
    },
    {
      "cell_type": "code",
      "execution_count": null,
      "id": "ea42ec89",
      "metadata": {
        "id": "ea42ec89"
      },
      "outputs": [],
      "source": [
        "# Start the MySQL service\n",
        "!service mysql start\n",
        "# Log in to MySQL as root\n",
        "!mysql -u root"
      ]
    },
    {
      "cell_type": "markdown",
      "id": "98731a2a",
      "metadata": {
        "id": "98731a2a"
      },
      "source": [
        "```mysql\n",
        "DROP USER IF EXISTS 'test'@'localhost';\n",
        "CREATE USER 'test'@'localhost' IDENTIFIED WITH 'mysql_native_password' BY '1234';\n",
        "GRANT ALL PRIVILEGES ON *.* TO 'test'@'localhost' WITH GRANT OPTION;\n",
        "FLUSH PRIVILEGES;\n",
        "```"
      ]
    },
    {
      "cell_type": "markdown",
      "id": "1a15b124",
      "metadata": {
        "id": "1a15b124"
      },
      "source": [
        "```mysql\n",
        "DROP DATABASE IF EXISTS TestDataset;\n",
        "CREATE DATABASE TestDataset;\n",
        "CREATE TABLE TestDataset.TestTable (\n",
        "    ID INT AUTO_INCREMENT PRIMARY KEY,\n",
        "    Name VARCHAR(255),\n",
        "\tEmail VARCHAR(255)\n",
        ");\n",
        "INSERT INTO TestDataset.TestTable (Name, Email) VALUES\n",
        "('John', 'John@gmail.com'),\n",
        "('Alice', 'Alice@gmail.com'),\n",
        "('Bob', 'Bob@gmail.com');\n",
        "exit;\n",
        "```"
      ]
    },
    {
      "cell_type": "markdown",
      "source": [
        "### LLM loading"
      ],
      "metadata": {
        "id": "CLOYxt2ud6vO"
      },
      "id": "CLOYxt2ud6vO"
    },
    {
      "cell_type": "code",
      "source": [
        "%%capture\n",
        "import os\n",
        "if \"COLAB_\" not in \"\".join(os.environ.keys()):\n",
        "    !pip install unsloth\n",
        "else:\n",
        "    # Do this only in Colab notebooks! Otherwise use pip install unsloth\n",
        "    !pip install --no-deps bitsandbytes accelerate xformers==0.0.29.post3 peft trl==0.15.2 triton cut_cross_entropy unsloth_zoo\n",
        "    !pip install sentencepiece protobuf \"datasets>=3.4.1\" huggingface_hub hf_transfer\n",
        "    !pip install --no-deps unsloth\n",
        "    !pip install datasets huggingface_hub\n"
      ],
      "metadata": {
        "id": "umTuWh0feX65"
      },
      "id": "umTuWh0feX65",
      "execution_count": null,
      "outputs": []
    },
    {
      "cell_type": "code",
      "source": [
        "from unsloth import FastLanguageModel\n",
        "from huggingface_hub import login\n",
        "\n",
        "# login(token=\"key\")\n",
        "CUSTOM_MODEL, CUSTOM_TOKENIZER = FastLanguageModel.from_pretrained(\n",
        "    model_name = \"userID/my_lora_model\",\n",
        "    max_seq_length = 2048,\n",
        "    load_in_4bit = True,\n",
        ")\n"
      ],
      "metadata": {
        "id": "95yD7QpFd-UP"
      },
      "id": "95yD7QpFd-UP",
      "execution_count": null,
      "outputs": []
    },
    {
      "cell_type": "markdown",
      "source": [
        "### MYSQL python api (basic ops)"
      ],
      "metadata": {
        "id": "Nhs3F9kedse0"
      },
      "id": "Nhs3F9kedse0"
    },
    {
      "cell_type": "code",
      "execution_count": null,
      "id": "867ba55d",
      "metadata": {
        "id": "867ba55d"
      },
      "outputs": [],
      "source": [
        "!pip install gradio mysql-connector-python"
      ]
    },
    {
      "cell_type": "code",
      "execution_count": null,
      "id": "a4cb8078",
      "metadata": {
        "id": "a4cb8078"
      },
      "outputs": [],
      "source": [
        "import mysql.connector\n",
        "from mysql.connector import Error\n",
        "\n",
        "# Connection\n",
        "def create_connection():\n",
        "    try:\n",
        "        connection = mysql.connector.connect(\n",
        "            host=\"localhost\",       # Replace with your MySQL host\n",
        "            user=\"test\",            # Replace with your MySQL username\n",
        "            password=\"1234\",        # Replace with your MySQL password\n",
        "            database=\"TestDataset\"  # Replace with your database name\n",
        "        )\n",
        "        return connection\n",
        "    except Error as e:\n",
        "        print(\"Error:\", e)\n",
        "        return None\n",
        "\n",
        "# CRUD\n",
        "def create_user(name, email):\n",
        "    conn = create_connection()\n",
        "    cursor = conn.cursor()\n",
        "    query = \"INSERT INTO TestTable (name, email) VALUES (%s, %s)\"\n",
        "    cursor.execute(query, (name, email))\n",
        "    conn.commit()\n",
        "    cursor.close()\n",
        "    conn.close()\n",
        "    return f\"User {name} created!\"\n",
        "\n",
        "def read_users():\n",
        "    conn = create_connection()\n",
        "    cursor = conn.cursor()\n",
        "    query = \"SELECT * FROM TestTable\"\n",
        "    cursor.execute(query)\n",
        "    rows = cursor.fetchall()\n",
        "    cursor.close()\n",
        "    conn.close()\n",
        "    return rows\n",
        "\n",
        "def update_user(user_id, name, email):\n",
        "    conn = create_connection()\n",
        "    cursor = conn.cursor()\n",
        "    query = \"UPDATE TestTable SET name = %s, email = %s WHERE id = %s\"\n",
        "    cursor.execute(query, (name, email, user_id))\n",
        "    conn.commit()\n",
        "    cursor.close()\n",
        "    conn.close()\n",
        "    return f\"User {user_id} updated!\"\n",
        "\n",
        "def delete_user(user_id):\n",
        "    conn = create_connection()\n",
        "    cursor = conn.cursor()\n",
        "    query = \"DELETE FROM TestTable WHERE id = %s\"\n",
        "    cursor.execute(query, (user_id,))\n",
        "    conn.commit()\n",
        "    cursor.close()\n",
        "    conn.close()\n",
        "    return f\"User {user_id} deleted!\"\n"
      ]
    },
    {
      "cell_type": "markdown",
      "source": [
        "### MYSQL python api (login) & GRADIO api (chat)"
      ],
      "metadata": {
        "id": "bLq2-i38fetq"
      },
      "id": "bLq2-i38fetq"
    },
    {
      "cell_type": "code",
      "execution_count": null,
      "id": "3492d492",
      "metadata": {
        "id": "3492d492"
      },
      "outputs": [],
      "source": [
        "from transformers import TextStreamer\n",
        "import io\n",
        "import sys\n",
        "\n",
        "def login_user(name, email):\n",
        "    conn = create_connection()\n",
        "    cursor = conn.cursor()\n",
        "    query = \"SELECT * FROM TestTable WHERE name = %s AND email = %s\"\n",
        "    cursor.execute(query, (name, email))\n",
        "    user = cursor.fetchone()\n",
        "    cursor.close()\n",
        "    conn.close()\n",
        "    if user:\n",
        "        return (f\"User {name} logged in!\", True)\n",
        "    else:\n",
        "        return (\"Login failed: user not found.\", False)\n",
        "\n",
        "def chat_with_llm(curr_message, history):\n",
        "    text = CUSTOM_TOKENIZER.apply_chat_template(\n",
        "        [{\"role\" : \"user\", \"content\" : curr_message}],\n",
        "        tokenize = False,\n",
        "        add_generation_prompt = True, # Must add for generation\n",
        "        enable_thinking = False, # Disable thinking\n",
        "    )\n",
        "\n",
        "    # Append the user message to history\n",
        "    history.append((curr_message, \"\"))\n",
        "\n",
        "    # Capture the output from the TextStreamer\n",
        "    original_stdout = sys.stdout\n",
        "    sys.stdout = captured_output = io.StringIO()\n",
        "\n",
        "    # Create a TextStreamer\n",
        "    streamer = TextStreamer(CUSTOM_TOKENIZER, skip_prompt = True)\n",
        "\n",
        "    # Generate with streaming\n",
        "    _ = CUSTOM_MODEL.generate(\n",
        "        **CUSTOM_TOKENIZER(text, return_tensors = \"pt\").to(\"cuda\"),\n",
        "        max_new_tokens = 256,\n",
        "        temperature = 0.7, top_p = 0.8, top_k = 20,\n",
        "        streamer = streamer,\n",
        "    )\n",
        "\n",
        "    # Process the captured output and yield chunks\n",
        "    response = \"\"\n",
        "    for chunk in captured_output.getvalue().split(): # You might need to adjust how you split the output into chunks\n",
        "        response += chunk + \" \"\n",
        "        history[-1] = (curr_message, response.strip())\n",
        "        yield \"\", history\n",
        "\n",
        "    # # Restore stdout\n",
        "    # sys.stdout = original_stdout\n",
        "\n",
        "\n",
        "def update_ui_after_login(message, success):\n",
        "    return message, gr.Tabs(selected=5 if success else 4), gr.update(visible=success)\n"
      ]
    },
    {
      "cell_type": "markdown",
      "source": [
        "### Gradio final wrapping"
      ],
      "metadata": {
        "id": "JhD2-qNofsqT"
      },
      "id": "JhD2-qNofsqT"
    },
    {
      "cell_type": "code",
      "execution_count": null,
      "id": "3965e478",
      "metadata": {
        "id": "3965e478"
      },
      "outputs": [],
      "source": [
        "import gradio as gr\n",
        "\n",
        "with gr.Blocks() as demo:\n",
        "    logged_in = gr.State(False)\n",
        "\n",
        "    with gr.Tabs() as main_tabs:\n",
        "        with gr.Tab(\"Create\", id=0):\n",
        "            name = gr.Textbox(label=\"Name\")\n",
        "            email = gr.Textbox(label=\"Email\")\n",
        "            create_btn = gr.Button(\"Create\")\n",
        "            create_output = gr.Textbox()\n",
        "            create_btn.click(fn=create_user, inputs=[name, email], outputs=create_output)\n",
        "\n",
        "        with gr.Tab(\"Read\", id=1):\n",
        "            read_btn = gr.Button(\"Read All Users\")\n",
        "            read_output = gr.Dataframe()\n",
        "            read_btn.click(fn=read_users, inputs=[], outputs=read_output)\n",
        "\n",
        "        with gr.Tab(\"Update\", id=2):\n",
        "            uid = gr.Number(label=\"User ID\")\n",
        "            uname = gr.Textbox(label=\"New Name\")\n",
        "            uemail = gr.Textbox(label=\"New Email\")\n",
        "            update_btn = gr.Button(\"Update\")\n",
        "            update_output = gr.Textbox()\n",
        "            update_btn.click(fn=update_user, inputs=[uid, uname, uemail], outputs=update_output)\n",
        "\n",
        "        with gr.Tab(\"Delete\", id=3):\n",
        "            did = gr.Number(label=\"User ID\")\n",
        "            delete_btn = gr.Button(\"Delete\")\n",
        "            delete_output = gr.Textbox()\n",
        "            delete_btn.click(fn=delete_user, inputs=[did], outputs=delete_output)\n",
        "\n",
        "        with gr.Tab(\"Login\", id=4):\n",
        "            login_name = gr.Textbox(label=\"Name\")\n",
        "            login_email = gr.Textbox(label=\"Email\")\n",
        "            login_btn = gr.Button(\"Login\")\n",
        "            login_output = gr.Textbox()\n",
        "\n",
        "        with gr.Tab(\"Chat\", id=5, visible=False) as chat_tab:\n",
        "            chatbot = gr.Chatbot()\n",
        "            msg = gr.Textbox()\n",
        "            clear = gr.Button(\"Clear\")\n",
        "            msg.submit(chat_with_llm, [msg, chatbot], [msg, chatbot])\n",
        "            clear.click(lambda: None, None, chatbot, queue=False)\n",
        "\n",
        "    login_btn.click(\n",
        "        fn=login_user,\n",
        "        inputs=[login_name, login_email],\n",
        "        outputs=[login_output, logged_in]\n",
        "    ).then(\n",
        "        fn=update_ui_after_login,\n",
        "        inputs=[login_output, logged_in],\n",
        "        outputs=[login_output, main_tabs, chat_tab]\n",
        "    )\n",
        "\n",
        "\n",
        "\n",
        "demo.launch(debug=True)\n"
      ]
    }
  ],
  "metadata": {
    "language_info": {
      "name": "python"
    },
    "colab": {
      "provenance": [],
      "gpuType": "T4"
    },
    "kernelspec": {
      "name": "python3",
      "display_name": "Python 3"
    },
    "accelerator": "GPU"
  },
  "nbformat": 4,
  "nbformat_minor": 5
}